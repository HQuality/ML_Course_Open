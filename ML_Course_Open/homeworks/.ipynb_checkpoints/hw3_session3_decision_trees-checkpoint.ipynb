{
 "cells": [
  {
   "cell_type": "markdown",
   "metadata": {},
   "source": [
    "<center>\n",
    "<img src=\"../../img/ods_stickers.jpg\">\n",
    "## Открытый курс по машинному обучению. Сессия № 3\n",
    "Авторы материала: Юрий Кашницкий (@yorko) и Максим Уваров (@maxis42). Материал распространяется на условиях лицензии [Creative Commons CC BY-NC-SA 4.0](https://creativecommons.org/licenses/by-nc-sa/4.0/). Можно использовать в любых целях (редактировать, поправлять и брать за основу), кроме коммерческих, но с обязательным упоминанием автора материала."
   ]
  },
  {
   "cell_type": "markdown",
   "metadata": {},
   "source": [
    "# <center>Домашнее задание № 3 \n",
    "## <center> Деревья решений для классификации и регрессии"
   ]
  },
  {
   "cell_type": "markdown",
   "metadata": {},
   "source": [
    "**В этом задании мы разберемся с тем, как работает дерево решений в задаче регрессии, а также построим (и настроим) классифицирующие деревья решений в задаче прогнозирования сердечно-сосудистых заболеваний. \n",
    "Заполните код в клетках (где написано \"Ваш код здесь\") и ответьте на вопросы в [веб-форме](https://docs.google.com/forms/d/1bXgaJRh4naJOGzE_Li2k50TN0kOPJdNhMtHl6H4t3Lk/edit).**"
   ]
  },
  {
   "cell_type": "code",
   "execution_count": 343,
   "metadata": {
    "collapsed": true
   },
   "outputs": [],
   "source": [
    "import numpy as np\n",
    "import pandas as pd\n",
    "from matplotlib import pyplot as plt\n",
    "%matplotlib inline\n",
    "from sklearn.model_selection import train_test_split, GridSearchCV, cross_val_score\n",
    "from sklearn.metrics import accuracy_score\n",
    "from sklearn.tree import DecisionTreeClassifier, export_graphviz\n",
    "from sklearn.tree import DecisionTreeRegressor"
   ]
  },
  {
   "cell_type": "markdown",
   "metadata": {},
   "source": [
    "## 1. Простой пример восстановления регрессии с помощью дерева решений"
   ]
  },
  {
   "cell_type": "markdown",
   "metadata": {},
   "source": [
    "Рассмотрим следующую одномерную задачу восстановления регрессии. Неформально, надо построить функцию $a(x)$, приближающую искомую зависимость $y = f(x)$ в терминах среднеквадратичной ошибки: $min \\sum_i {(a(x_i) - f(x_i))}^2$. Подробно мы рассмотрим эту задачу в следующий раз ([4-я статья курса](https://habrahabr.ru/company/ods/blog/323890/)), а пока поговорим о том, как решать эту задачу с помощью дерева решений. Предварительно прочитайте небольшой раздел [\"Дерево решений в задаче регрессии\"](https://habrahabr.ru/company/ods/blog/322534/#derevo-resheniy-v-zadache-regressii) 3-ей статьи курса. "
   ]
  },
  {
   "cell_type": "code",
   "execution_count": 344,
   "metadata": {},
   "outputs": [
    {
     "data": {
      "image/png": "[encoded data removed]",
      "text/plain": [
       "<matplotlib.figure.Figure at 0x18ab33c6a90>"
      ]
     },
     "metadata": {},
     "output_type": "display_data"
    }
   ],
   "source": [
    "X = np.linspace(-2, 2, 7)\n",
    "y = X ** 3\n",
    "\n",
    "plt.scatter(X, y)\n",
    "plt.xlabel(r'$x$')\n",
    "plt.ylabel(r'$y$');"
   ]
  },
  {
   "cell_type": "markdown",
   "metadata": {},
   "source": [
    "Проделаем несколько шагов в построении дерева решений. Исходя из соображений симметрии, выберем пороги для разбиения равными соответственно 0, 1.5 и -1.5. Напомним, что в случае задачи восстановления регрессии листовая вершина выдает среднее значение ответа по всем объектам обучающей выборки, попавшим в эту вершину."
   ]
  },
  {
   "cell_type": "markdown",
   "metadata": {},
   "source": [
    "Итак, начнём. Дерево глубины 0 состоит из одного корня, который содержит всю обучающую выборку. Как будут выглядеть предсказания данного дерева для $x \\in [-2, 2]$? Постройте соответствующий график. Тут без `sklearn` – разбираемся просто с ручкой, бумажкой и Python, если надо."
   ]
  },
  {
   "cell_type": "code",
   "execution_count": 345,
   "metadata": {},
   "outputs": [
    {
     "data": {
      "text/plain": [
       "<matplotlib.collections.PathCollection at 0x18ab351da90>"
      ]
     },
     "execution_count": 345,
     "metadata": {},
     "output_type": "execute_result"
    },
    {
     "data": {
      "image/png": "[encoded data removed]",
      "text/plain": [
       "<matplotlib.figure.Figure at 0x18ab3c48be0>"
      ]
     },
     "metadata": {},
     "output_type": "display_data"
    }
   ],
   "source": [
    "X_l = X[X <= 0]\n",
    "y_l = [y[X < 0].mean()] * X_l.shape[0]\n",
    "\n",
    "X_r = X[X >= 0]\n",
    "y_r = [y[X > 0].mean()] * X_r.shape[0]\n",
    "\n",
    "y_1 = np.r_[y_l, y_r]\n",
    "X_1 = np.r_[X_l, X_r]\n",
    "\n",
    "plt.plot(X_1, y_1)\n",
    "plt.scatter(X,y)"
   ]
  },
  {
   "cell_type": "code",
   "execution_count": 346,
   "metadata": {},
   "outputs": [
    {
     "data": {
      "image/png": "[encoded data removed]",
      "text/plain": [
       "<matplotlib.figure.Figure at 0x18ab3141da0>"
      ]
     },
     "metadata": {},
     "output_type": "display_data"
    }
   ],
   "source": [
    "Y=[np.mean(y)]*X.shape[0]\n",
    "plt.plot(X,Y)\n",
    "plt.scatter(X,y)\n",
    "plt.show()"
   ]
  },
  {
   "cell_type": "markdown",
   "metadata": {},
   "source": [
    "Произведем первое разбиение выборки по предикату $[x < 0]$. Получим дерево глубины 1 с двумя листьями. Постройте аналогичный график предсказаний для этого дерева."
   ]
  },
  {
   "cell_type": "markdown",
   "metadata": {},
   "source": [
    "В алгоритме построения дерева решений признак и значение порога, по которым происходит разбиение выборки, выбираются исходя из некоторого критерия. Для регрессии обычно используется дисперсионный критерий:\n",
    "$$Q(X, j, t) = D(X) - \\dfrac{|X_l|}{|X|} D(X_l) - \\dfrac{|X_r|}{|X|} D(X_r),$$\n",
    "где $X$ – выборка, находящаяся в текущей вершине, $X_l$ и $X_r$ – разбиение выборки $X$ на две части по предикату $[x_j < t]$ (то есть по $j$-ому признаку и порогу $t$), $|X|$, $|X_l|$, $|X_r|$ - размеры соответствующих выборок, а $D(X)$ – дисперсия ответов на выборке $X$:\n",
    "$$D(X) = \\dfrac{1}{|X|} \\sum_{x_j \\in X}(y_j – \\dfrac{1}{|X|}\\sum_{x_i \\in X}y_i)^2,$$\n",
    "где $y_i = y(x_i)$ – ответ на объекте $x_i$. При каждом разбиении вершины выбираются признак $j$ и значение порога $t$, максимизирующие значение функционала $Q(X, j, t)$.\n",
    "\n",
    "В нашем случае признак всего один, поэтому $Q$ зависит только от значения порога $t$ (и ответов выборки в данной вершине). \n",
    "\n",
    "Постройте график функции $Q(X, t)$ в корне в зависимости от значения порога $t$ на отрезке $[-1.9, 1.9]$."
   ]
  },
  {
   "cell_type": "code",
   "execution_count": 347,
   "metadata": {},
   "outputs": [
    {
     "data": {
      "text/plain": [
       "[1.7777777777777779, 0.55555555555555558, 0.55555555555555547]"
      ]
     },
     "execution_count": 347,
     "metadata": {},
     "output_type": "execute_result"
    }
   ],
   "source": [
    "[np.var(X),np.var(X_l), np.var(X_r)]\n"
   ]
  },
  {
   "cell_type": "code",
   "execution_count": 348,
   "metadata": {
    "collapsed": true
   },
   "outputs": [],
   "source": [
    "def regression_var_criterion(X, y, t):\n",
    "    pass"
   ]
  },
  {
   "cell_type": "code",
   "execution_count": 349,
   "metadata": {
    "collapsed": true
   },
   "outputs": [],
   "source": [
    "# Ваш код здесь"
   ]
  },
  {
   "cell_type": "markdown",
   "metadata": {},
   "source": [
    "**<font color='red'>Вопрос 1.</font> Оптимально ли с точки зрения дисперсионного критерия выбранное нами значение порога $t = 0$?**\n",
    "- Да\n",
    "- ## Нет"
   ]
  },
  {
   "cell_type": "markdown",
   "metadata": {},
   "source": [
    "Теперь произведем разбиение в каждой из листовых вершин. В левой (соответствующей ветви $x < 0$) – по предикату $[x < -1.5]$, а в правой (соответствующей ветви $x \\geqslant 0$) – по предикату $[x < 1.5]$. Получится дерево глубины 2 с 7 вершинами и 4 листьями. Постройте график предсказаний этого дерева для $x \\in [-2, 2]$."
   ]
  },
  {
   "cell_type": "code",
   "execution_count": 1,
   "metadata": {},
   "outputs": [
    {
     "ename": "NameError",
     "evalue": "name 'DecisionTreeRegressor' is not defined",
     "output_type": "error",
     "traceback": [
      "\u001b[1;31m---------------------------------------------------------------------------\u001b[0m",
      "\u001b[1;31mNameError\u001b[0m                                 Traceback (most recent call last)",
      "\u001b[1;32m<ipython-input-1-d62c102ac225>\u001b[0m in \u001b[0;36m<module>\u001b[1;34m()\u001b[0m\n\u001b[1;32m----> 1\u001b[1;33m \u001b[0mskd\u001b[0m \u001b[1;33m=\u001b[0m \u001b[0mDecisionTreeRegressor\u001b[0m\u001b[1;33m(\u001b[0m\u001b[0mrandom_state\u001b[0m\u001b[1;33m=\u001b[0m\u001b[1;36m17\u001b[0m\u001b[1;33m,\u001b[0m \u001b[0mmax_depth\u001b[0m\u001b[1;33m=\u001b[0m\u001b[1;36m2\u001b[0m\u001b[1;33m,\u001b[0m \u001b[0mmin_samples_leaf\u001b[0m\u001b[1;33m=\u001b[0m\u001b[1;36m2\u001b[0m\u001b[1;33m)\u001b[0m\u001b[1;33m\u001b[0m\u001b[0m\n\u001b[0m\u001b[0;32m      2\u001b[0m \u001b[0mskd\u001b[0m\u001b[1;33m.\u001b[0m\u001b[0mfit\u001b[0m \u001b[1;33m(\u001b[0m\u001b[0mX\u001b[0m\u001b[1;33m,\u001b[0m\u001b[0my\u001b[0m\u001b[1;33m)\u001b[0m\u001b[1;33m\u001b[0m\u001b[0m\n",
      "\u001b[1;31mNameError\u001b[0m: name 'DecisionTreeRegressor' is not defined"
     ]
    }
   ],
   "source": [
    "skd = DecisionTreeRegressor(random_state=17, max_depth=2, min_samples_leaf=2)\n",
    "skd.fit (X,y)"
   ]
  },
  {
   "cell_type": "markdown",
   "metadata": {},
   "source": [
    "**<font color='red'>Вопрос 2.</font> Из какого числа отрезков состоит график (необходимо считать как горизонтальные, так и вертикальные прямые), изображающий предсказания построенного дерева на отрезке [-2, 2]?**\n",
    "- 5\n",
    "- 6\n",
    "- ## 7\n",
    "- 8"
   ]
  },
  {
   "cell_type": "markdown",
   "metadata": {},
   "source": [
    "## 2. Построение дерева решений для прогноза сердечно-сосудистых заболеваний\n",
    "Считаем в `DataFrame` знакомый нам набор данных по сердечно-сосудистым заболеваниям. "
   ]
  },
  {
   "cell_type": "code",
   "execution_count": 351,
   "metadata": {
    "collapsed": true
   },
   "outputs": [],
   "source": [
    "df = pd.read_csv('../../data/mlbootcamp5_train.csv', \n",
    "                 index_col='id', sep=';')"
   ]
  },
  {
   "cell_type": "code",
   "execution_count": 352,
   "metadata": {},
   "outputs": [
    {
     "data": {
      "text/html": [
       "<div>\n",
       "<style>\n",
       "    .dataframe thead tr:only-child th {\n",
       "        text-align: right;\n",
       "    }\n",
       "\n",
       "    .dataframe thead th {\n",
       "        text-align: left;\n",
       "    }\n",
       "\n",
       "    .dataframe tbody tr th {\n",
       "        vertical-align: top;\n",
       "    }\n",
       "</style>\n",
       "<table border=\"1\" class=\"dataframe\">\n",
       "  <thead>\n",
       "    <tr style=\"text-align: right;\">\n",
       "      <th></th>\n",
       "      <th>age</th>\n",
       "      <th>gender</th>\n",
       "      <th>height</th>\n",
       "      <th>weight</th>\n",
       "      <th>ap_hi</th>\n",
       "      <th>ap_lo</th>\n",
       "      <th>cholesterol</th>\n",
       "      <th>gluc</th>\n",
       "      <th>smoke</th>\n",
       "      <th>alco</th>\n",
       "      <th>active</th>\n",
       "      <th>cardio</th>\n",
       "    </tr>\n",
       "    <tr>\n",
       "      <th>id</th>\n",
       "      <th></th>\n",
       "      <th></th>\n",
       "      <th></th>\n",
       "      <th></th>\n",
       "      <th></th>\n",
       "      <th></th>\n",
       "      <th></th>\n",
       "      <th></th>\n",
       "      <th></th>\n",
       "      <th></th>\n",
       "      <th></th>\n",
       "      <th></th>\n",
       "    </tr>\n",
       "  </thead>\n",
       "  <tbody>\n",
       "    <tr>\n",
       "      <th>0</th>\n",
       "      <td>18393</td>\n",
       "      <td>2</td>\n",
       "      <td>168</td>\n",
       "      <td>62.0</td>\n",
       "      <td>110</td>\n",
       "      <td>80</td>\n",
       "      <td>1</td>\n",
       "      <td>1</td>\n",
       "      <td>0</td>\n",
       "      <td>0</td>\n",
       "      <td>1</td>\n",
       "      <td>0</td>\n",
       "    </tr>\n",
       "    <tr>\n",
       "      <th>1</th>\n",
       "      <td>20228</td>\n",
       "      <td>1</td>\n",
       "      <td>156</td>\n",
       "      <td>85.0</td>\n",
       "      <td>140</td>\n",
       "      <td>90</td>\n",
       "      <td>3</td>\n",
       "      <td>1</td>\n",
       "      <td>0</td>\n",
       "      <td>0</td>\n",
       "      <td>1</td>\n",
       "      <td>1</td>\n",
       "    </tr>\n",
       "    <tr>\n",
       "      <th>2</th>\n",
       "      <td>18857</td>\n",
       "      <td>1</td>\n",
       "      <td>165</td>\n",
       "      <td>64.0</td>\n",
       "      <td>130</td>\n",
       "      <td>70</td>\n",
       "      <td>3</td>\n",
       "      <td>1</td>\n",
       "      <td>0</td>\n",
       "      <td>0</td>\n",
       "      <td>0</td>\n",
       "      <td>1</td>\n",
       "    </tr>\n",
       "    <tr>\n",
       "      <th>3</th>\n",
       "      <td>17623</td>\n",
       "      <td>2</td>\n",
       "      <td>169</td>\n",
       "      <td>82.0</td>\n",
       "      <td>150</td>\n",
       "      <td>100</td>\n",
       "      <td>1</td>\n",
       "      <td>1</td>\n",
       "      <td>0</td>\n",
       "      <td>0</td>\n",
       "      <td>1</td>\n",
       "      <td>1</td>\n",
       "    </tr>\n",
       "    <tr>\n",
       "      <th>4</th>\n",
       "      <td>17474</td>\n",
       "      <td>1</td>\n",
       "      <td>156</td>\n",
       "      <td>56.0</td>\n",
       "      <td>100</td>\n",
       "      <td>60</td>\n",
       "      <td>1</td>\n",
       "      <td>1</td>\n",
       "      <td>0</td>\n",
       "      <td>0</td>\n",
       "      <td>0</td>\n",
       "      <td>0</td>\n",
       "    </tr>\n",
       "  </tbody>\n",
       "</table>\n",
       "</div>"
      ],
      "text/plain": [
       "      age  gender  height  weight  ap_hi  ap_lo  cholesterol  gluc  smoke  \\\n",
       "id                                                                          \n",
       "0   18393       2     168    62.0    110     80            1     1      0   \n",
       "1   20228       1     156    85.0    140     90            3     1      0   \n",
       "2   18857       1     165    64.0    130     70            3     1      0   \n",
       "3   17623       2     169    82.0    150    100            1     1      0   \n",
       "4   17474       1     156    56.0    100     60            1     1      0   \n",
       "\n",
       "    alco  active  cardio  \n",
       "id                        \n",
       "0      0       1       0  \n",
       "1      0       1       1  \n",
       "2      0       0       1  \n",
       "3      0       1       1  \n",
       "4      0       0       0  "
      ]
     },
     "execution_count": 352,
     "metadata": {},
     "output_type": "execute_result"
    }
   ],
   "source": [
    "df.head(5)"
   ]
  },
  {
   "cell_type": "markdown",
   "metadata": {},
   "source": [
    "Сделайте небольшие преобразования признаков: постройте признак \"возраст в годах\" (полных лет), а также постройте по 3 бинарных признака на основе `cholesterol` и `gluc`, где они, соответственно, равны 1, 2 или 3. Эта техника называется dummy-кодированием или One Hot Encoding (OHE), удобней всего в данном случае использовать `pandas.get_dummmies`. Исходные признаки `cholesterol` и `gluc` после кодирования использовать не нужно."
   ]
  },
  {
   "cell_type": "code",
   "execution_count": 367,
   "metadata": {
    "scrolled": true
   },
   "outputs": [
    {
     "data": {
      "text/html": [
       "<div>\n",
       "<style>\n",
       "    .dataframe thead tr:only-child th {\n",
       "        text-align: right;\n",
       "    }\n",
       "\n",
       "    .dataframe thead th {\n",
       "        text-align: left;\n",
       "    }\n",
       "\n",
       "    .dataframe tbody tr th {\n",
       "        vertical-align: top;\n",
       "    }\n",
       "</style>\n",
       "<table border=\"1\" class=\"dataframe\">\n",
       "  <thead>\n",
       "    <tr style=\"text-align: right;\">\n",
       "      <th></th>\n",
       "      <th>age</th>\n",
       "      <th>gender</th>\n",
       "      <th>height</th>\n",
       "      <th>weight</th>\n",
       "      <th>ap_hi</th>\n",
       "      <th>ap_lo</th>\n",
       "      <th>smoke</th>\n",
       "      <th>alco</th>\n",
       "      <th>active</th>\n",
       "      <th>cardio</th>\n",
       "      <th>cholesterol_1</th>\n",
       "      <th>cholesterol_2</th>\n",
       "      <th>cholesterol_3</th>\n",
       "      <th>gluc_1</th>\n",
       "      <th>gluc_2</th>\n",
       "      <th>gluc_3</th>\n",
       "    </tr>\n",
       "    <tr>\n",
       "      <th>id</th>\n",
       "      <th></th>\n",
       "      <th></th>\n",
       "      <th></th>\n",
       "      <th></th>\n",
       "      <th></th>\n",
       "      <th></th>\n",
       "      <th></th>\n",
       "      <th></th>\n",
       "      <th></th>\n",
       "      <th></th>\n",
       "      <th></th>\n",
       "      <th></th>\n",
       "      <th></th>\n",
       "      <th></th>\n",
       "      <th></th>\n",
       "      <th></th>\n",
       "    </tr>\n",
       "  </thead>\n",
       "  <tbody>\n",
       "    <tr>\n",
       "      <th>0</th>\n",
       "      <td>50.0</td>\n",
       "      <td>2</td>\n",
       "      <td>168</td>\n",
       "      <td>62.0</td>\n",
       "      <td>110</td>\n",
       "      <td>80</td>\n",
       "      <td>0</td>\n",
       "      <td>0</td>\n",
       "      <td>1</td>\n",
       "      <td>0</td>\n",
       "      <td>1</td>\n",
       "      <td>0</td>\n",
       "      <td>0</td>\n",
       "      <td>1</td>\n",
       "      <td>0</td>\n",
       "      <td>0</td>\n",
       "    </tr>\n",
       "    <tr>\n",
       "      <th>1</th>\n",
       "      <td>55.0</td>\n",
       "      <td>1</td>\n",
       "      <td>156</td>\n",
       "      <td>85.0</td>\n",
       "      <td>140</td>\n",
       "      <td>90</td>\n",
       "      <td>0</td>\n",
       "      <td>0</td>\n",
       "      <td>1</td>\n",
       "      <td>1</td>\n",
       "      <td>0</td>\n",
       "      <td>0</td>\n",
       "      <td>1</td>\n",
       "      <td>1</td>\n",
       "      <td>0</td>\n",
       "      <td>0</td>\n",
       "    </tr>\n",
       "    <tr>\n",
       "      <th>2</th>\n",
       "      <td>52.0</td>\n",
       "      <td>1</td>\n",
       "      <td>165</td>\n",
       "      <td>64.0</td>\n",
       "      <td>130</td>\n",
       "      <td>70</td>\n",
       "      <td>0</td>\n",
       "      <td>0</td>\n",
       "      <td>0</td>\n",
       "      <td>1</td>\n",
       "      <td>0</td>\n",
       "      <td>0</td>\n",
       "      <td>1</td>\n",
       "      <td>1</td>\n",
       "      <td>0</td>\n",
       "      <td>0</td>\n",
       "    </tr>\n",
       "    <tr>\n",
       "      <th>3</th>\n",
       "      <td>48.0</td>\n",
       "      <td>2</td>\n",
       "      <td>169</td>\n",
       "      <td>82.0</td>\n",
       "      <td>150</td>\n",
       "      <td>100</td>\n",
       "      <td>0</td>\n",
       "      <td>0</td>\n",
       "      <td>1</td>\n",
       "      <td>1</td>\n",
       "      <td>1</td>\n",
       "      <td>0</td>\n",
       "      <td>0</td>\n",
       "      <td>1</td>\n",
       "      <td>0</td>\n",
       "      <td>0</td>\n",
       "    </tr>\n",
       "    <tr>\n",
       "      <th>4</th>\n",
       "      <td>48.0</td>\n",
       "      <td>1</td>\n",
       "      <td>156</td>\n",
       "      <td>56.0</td>\n",
       "      <td>100</td>\n",
       "      <td>60</td>\n",
       "      <td>0</td>\n",
       "      <td>0</td>\n",
       "      <td>0</td>\n",
       "      <td>0</td>\n",
       "      <td>1</td>\n",
       "      <td>0</td>\n",
       "      <td>0</td>\n",
       "      <td>1</td>\n",
       "      <td>0</td>\n",
       "      <td>0</td>\n",
       "    </tr>\n",
       "  </tbody>\n",
       "</table>\n",
       "</div>"
      ],
      "text/plain": [
       "     age  gender  height  weight  ap_hi  ap_lo  smoke  alco  active  cardio  \\\n",
       "id                                                                            \n",
       "0   50.0       2     168    62.0    110     80      0     0       1       0   \n",
       "1   55.0       1     156    85.0    140     90      0     0       1       1   \n",
       "2   52.0       1     165    64.0    130     70      0     0       0       1   \n",
       "3   48.0       2     169    82.0    150    100      0     0       1       1   \n",
       "4   48.0       1     156    56.0    100     60      0     0       0       0   \n",
       "\n",
       "    cholesterol_1  cholesterol_2  cholesterol_3  gluc_1  gluc_2  gluc_3  \n",
       "id                                                                       \n",
       "0               1              0              0       1       0       0  \n",
       "1               0              0              1       1       0       0  \n",
       "2               0              0              1       1       0       0  \n",
       "3               1              0              0       1       0       0  \n",
       "4               1              0              0       1       0       0  "
      ]
     },
     "execution_count": 367,
     "metadata": {},
     "output_type": "execute_result"
    }
   ],
   "source": [
    "df['age'] = round(df['age'] / 365.25)\n",
    "df.head(5)"
   ]
  },
  {
   "cell_type": "code",
   "execution_count": 354,
   "metadata": {},
   "outputs": [
    {
     "data": {
      "text/html": [
       "<div>\n",
       "<style>\n",
       "    .dataframe thead tr:only-child th {\n",
       "        text-align: right;\n",
       "    }\n",
       "\n",
       "    .dataframe thead th {\n",
       "        text-align: left;\n",
       "    }\n",
       "\n",
       "    .dataframe tbody tr th {\n",
       "        vertical-align: top;\n",
       "    }\n",
       "</style>\n",
       "<table border=\"1\" class=\"dataframe\">\n",
       "  <thead>\n",
       "    <tr style=\"text-align: right;\">\n",
       "      <th></th>\n",
       "      <th>age</th>\n",
       "      <th>gender</th>\n",
       "      <th>height</th>\n",
       "      <th>weight</th>\n",
       "      <th>ap_hi</th>\n",
       "      <th>ap_lo</th>\n",
       "      <th>smoke</th>\n",
       "      <th>alco</th>\n",
       "      <th>active</th>\n",
       "      <th>cardio</th>\n",
       "      <th>cholesterol_1</th>\n",
       "      <th>cholesterol_2</th>\n",
       "      <th>cholesterol_3</th>\n",
       "      <th>gluc_1</th>\n",
       "      <th>gluc_2</th>\n",
       "      <th>gluc_3</th>\n",
       "    </tr>\n",
       "    <tr>\n",
       "      <th>id</th>\n",
       "      <th></th>\n",
       "      <th></th>\n",
       "      <th></th>\n",
       "      <th></th>\n",
       "      <th></th>\n",
       "      <th></th>\n",
       "      <th></th>\n",
       "      <th></th>\n",
       "      <th></th>\n",
       "      <th></th>\n",
       "      <th></th>\n",
       "      <th></th>\n",
       "      <th></th>\n",
       "      <th></th>\n",
       "      <th></th>\n",
       "      <th></th>\n",
       "    </tr>\n",
       "  </thead>\n",
       "  <tbody>\n",
       "    <tr>\n",
       "      <th>0</th>\n",
       "      <td>18393</td>\n",
       "      <td>2</td>\n",
       "      <td>168</td>\n",
       "      <td>62.0</td>\n",
       "      <td>110</td>\n",
       "      <td>80</td>\n",
       "      <td>0</td>\n",
       "      <td>0</td>\n",
       "      <td>1</td>\n",
       "      <td>0</td>\n",
       "      <td>1</td>\n",
       "      <td>0</td>\n",
       "      <td>0</td>\n",
       "      <td>1</td>\n",
       "      <td>0</td>\n",
       "      <td>0</td>\n",
       "    </tr>\n",
       "    <tr>\n",
       "      <th>1</th>\n",
       "      <td>20228</td>\n",
       "      <td>1</td>\n",
       "      <td>156</td>\n",
       "      <td>85.0</td>\n",
       "      <td>140</td>\n",
       "      <td>90</td>\n",
       "      <td>0</td>\n",
       "      <td>0</td>\n",
       "      <td>1</td>\n",
       "      <td>1</td>\n",
       "      <td>0</td>\n",
       "      <td>0</td>\n",
       "      <td>1</td>\n",
       "      <td>1</td>\n",
       "      <td>0</td>\n",
       "      <td>0</td>\n",
       "    </tr>\n",
       "    <tr>\n",
       "      <th>2</th>\n",
       "      <td>18857</td>\n",
       "      <td>1</td>\n",
       "      <td>165</td>\n",
       "      <td>64.0</td>\n",
       "      <td>130</td>\n",
       "      <td>70</td>\n",
       "      <td>0</td>\n",
       "      <td>0</td>\n",
       "      <td>0</td>\n",
       "      <td>1</td>\n",
       "      <td>0</td>\n",
       "      <td>0</td>\n",
       "      <td>1</td>\n",
       "      <td>1</td>\n",
       "      <td>0</td>\n",
       "      <td>0</td>\n",
       "    </tr>\n",
       "    <tr>\n",
       "      <th>3</th>\n",
       "      <td>17623</td>\n",
       "      <td>2</td>\n",
       "      <td>169</td>\n",
       "      <td>82.0</td>\n",
       "      <td>150</td>\n",
       "      <td>100</td>\n",
       "      <td>0</td>\n",
       "      <td>0</td>\n",
       "      <td>1</td>\n",
       "      <td>1</td>\n",
       "      <td>1</td>\n",
       "      <td>0</td>\n",
       "      <td>0</td>\n",
       "      <td>1</td>\n",
       "      <td>0</td>\n",
       "      <td>0</td>\n",
       "    </tr>\n",
       "    <tr>\n",
       "      <th>4</th>\n",
       "      <td>17474</td>\n",
       "      <td>1</td>\n",
       "      <td>156</td>\n",
       "      <td>56.0</td>\n",
       "      <td>100</td>\n",
       "      <td>60</td>\n",
       "      <td>0</td>\n",
       "      <td>0</td>\n",
       "      <td>0</td>\n",
       "      <td>0</td>\n",
       "      <td>1</td>\n",
       "      <td>0</td>\n",
       "      <td>0</td>\n",
       "      <td>1</td>\n",
       "      <td>0</td>\n",
       "      <td>0</td>\n",
       "    </tr>\n",
       "  </tbody>\n",
       "</table>\n",
       "</div>"
      ],
      "text/plain": [
       "      age  gender  height  weight  ap_hi  ap_lo  smoke  alco  active  cardio  \\\n",
       "id                                                                             \n",
       "0   18393       2     168    62.0    110     80      0     0       1       0   \n",
       "1   20228       1     156    85.0    140     90      0     0       1       1   \n",
       "2   18857       1     165    64.0    130     70      0     0       0       1   \n",
       "3   17623       2     169    82.0    150    100      0     0       1       1   \n",
       "4   17474       1     156    56.0    100     60      0     0       0       0   \n",
       "\n",
       "    cholesterol_1  cholesterol_2  cholesterol_3  gluc_1  gluc_2  gluc_3  \n",
       "id                                                                       \n",
       "0               1              0              0       1       0       0  \n",
       "1               0              0              1       1       0       0  \n",
       "2               0              0              1       1       0       0  \n",
       "3               1              0              0       1       0       0  \n",
       "4               1              0              0       1       0       0  "
      ]
     },
     "execution_count": 354,
     "metadata": {},
     "output_type": "execute_result"
    }
   ],
   "source": [
    "df = pd.get_dummies(df, columns=['cholesterol', 'gluc'])\n",
    "df.head(5)"
   ]
  },
  {
   "cell_type": "markdown",
   "metadata": {},
   "source": [
    "Разбейте выборку на обучающую и отложенную (holdout) части в пропорции 7/3. Для этого используйте метод `sklearn.model_selection.train_test_split`, зафиксируйте у него `random_state`=17."
   ]
  },
  {
   "cell_type": "code",
   "execution_count": 355,
   "metadata": {
    "scrolled": true
   },
   "outputs": [
    {
     "data": {
      "text/plain": [
       "DecisionTreeClassifier(class_weight=None, criterion='gini', max_depth=3,\n",
       "            max_features=None, max_leaf_nodes=None,\n",
       "            min_impurity_decrease=0.0, min_impurity_split=None,\n",
       "            min_samples_leaf=1, min_samples_split=2,\n",
       "            min_weight_fraction_leaf=0.0, presort=False, random_state=17,\n",
       "            splitter='best')"
      ]
     },
     "execution_count": 355,
     "metadata": {},
     "output_type": "execute_result"
    }
   ],
   "source": [
    "X_train, X_valid, y_train, y_valid = train_test_split (df, df['cardio'], test_size= 0.7, random_state= 17)\n",
    "X_train = X_train.drop(['cardio'], axis= 1)\n",
    "X_valid = X_valid.drop(['cardio'], axis =1)\n",
    "dt = DecisionTreeClassifier(max_depth=3, random_state= 17)\n",
    "dt.fit(X_train, y_train)\n",
    "# Ваш код здесь"
   ]
  },
  {
   "cell_type": "markdown",
   "metadata": {},
   "source": [
    "Обучите на выборке `(X_train, y_train)` дерево решений с ограничением на максимальную глубину в 3. Зафиксируйте у дерева `random_state=17`. Визуализируйте дерево с помошью `sklearn.tree.export_graphviz`, `dot` и `pydot`. Пример дан в [статье](https://habrahabr.ru/company/ods/blog/322534/) под спойлером \"Код для отрисовки дерева\". Названия файлов писать без кавычек, для того чтобы работало в jupyter notebook. Обратите внимание, что команды в Jupyter notebook, начинающиеся с восклицательного знака – это терминальные команды (которые мы обычно запускаем в терминале/командной строке)."
   ]
  },
  {
   "cell_type": "code",
   "execution_count": 356,
   "metadata": {
    "collapsed": true
   },
   "outputs": [],
   "source": [
    "export_graphviz(dt, feature_names = X_train.columns, out_file='dt.dot') \n",
    "!dot -Tpng dt.dot -o ../../img/hw3_small_tree.png"
   ]
  },
  {
   "cell_type": "markdown",
   "metadata": {},
   "source": [
    "**<font color='red'>Вопрос 3.</font> Какие 3 признака задействуются при прогнозе в построенном дереве решений? (то есть эти три признака \"можно найти в дереве\")**\n",
    "- weight, height, gluc=3\n",
    "- smoke, age, gluc=3\n",
    "- age, weight, chol=3\n",
    "- ## age, ap_hi, chol=3"
   ]
  },
  {
   "cell_type": "markdown",
   "metadata": {},
   "source": [
    "Сделайте с помощью обученного дерева прогноз для отложенной выборки `(X_valid, y_valid)`. Посчитайте долю верных ответов (accuracy)."
   ]
  },
  {
   "cell_type": "code",
   "execution_count": 357,
   "metadata": {},
   "outputs": [
    {
     "data": {
      "text/plain": [
       "0.72338775510204079"
      ]
     },
     "execution_count": 357,
     "metadata": {},
     "output_type": "execute_result"
    }
   ],
   "source": [
    "pred = dt.predict (X_valid)\n",
    "acc1 = accuracy_score(y_valid, pred)\n",
    "acc1"
   ]
  },
  {
   "cell_type": "markdown",
   "metadata": {},
   "source": [
    "Теперь на кросс-валидации по выборке  `(X_train, y_train)`  настройте глубину дерева, чтобы повысить качество модели. Используйте GridSearchCV, 5-кратную кросс-валидацию. Зафиксируйте у дерева `random_state`=17. Перебирайте параметр `max_depth` от 2 до 10. "
   ]
  },
  {
   "cell_type": "code",
   "execution_count": 358,
   "metadata": {},
   "outputs": [
    {
     "name": "stdout",
     "output_type": "stream",
     "text": [
      "Fitting 5 folds for each of 36 candidates, totalling 180 fits\n"
     ]
    },
    {
     "name": "stderr",
     "output_type": "stream",
     "text": [
      "[Parallel(n_jobs=-1)]: Done  34 tasks      | elapsed:    6.5s\n",
      "[Parallel(n_jobs=-1)]: Done 180 out of 180 | elapsed:    8.2s finished\n"
     ]
    },
    {
     "data": {
      "text/plain": [
       "GridSearchCV(cv=5, error_score='raise',\n",
       "       estimator=DecisionTreeClassifier(class_weight=None, criterion='gini', max_depth=None,\n",
       "            max_features=None, max_leaf_nodes=None,\n",
       "            min_impurity_decrease=0.0, min_impurity_split=None,\n",
       "            min_samples_leaf=1, min_samples_split=2,\n",
       "            min_weight_fraction_leaf=0.0, presort=False, random_state=17,\n",
       "            splitter='best'),\n",
       "       fit_params=None, iid=True, n_jobs=-1,\n",
       "       param_grid={'max_depth': [2, 3, 4, 5, 6, 7, 8, 9, 10], 'min_samples_leaf': [1, 2, 3, 4]},\n",
       "       pre_dispatch='2*n_jobs', refit=True, return_train_score='warn',\n",
       "       scoring=None, verbose=True)"
      ]
     },
     "execution_count": 358,
     "metadata": {},
     "output_type": "execute_result"
    }
   ],
   "source": [
    "    tree_params = {'max_depth': list(range(2,11)), \n",
    "               'min_samples_leaf': list(range(1, 5))}\n",
    "    tree_grid = GridSearchCV(DecisionTreeClassifier(random_state=17), \n",
    "                                 tree_params, \n",
    "                                 verbose=True, n_jobs=-1, cv=5)\n",
    "    tree_grid.fit(X_train, y_train)"
   ]
  },
  {
   "cell_type": "markdown",
   "metadata": {},
   "source": [
    "Нарисуйте график того, как меняется средняя доля верных ответов на кросс-валидации в зависимости от значения `max_depth`."
   ]
  },
  {
   "cell_type": "code",
   "execution_count": 359,
   "metadata": {},
   "outputs": [
    {
     "name": "stderr",
     "output_type": "stream",
     "text": [
      "G:\\Python\\lib\\site-packages\\sklearn\\utils\\deprecation.py:122: FutureWarning: You are accessing a training score ('mean_train_score'), which will not be available by default any more in 0.21. If you need training scores, please set return_train_score=True\n",
      "  warnings.warn(*warn_args, **warn_kwargs)\n",
      "G:\\Python\\lib\\site-packages\\sklearn\\utils\\deprecation.py:122: FutureWarning: You are accessing a training score ('split0_train_score'), which will not be available by default any more in 0.21. If you need training scores, please set return_train_score=True\n",
      "  warnings.warn(*warn_args, **warn_kwargs)\n",
      "G:\\Python\\lib\\site-packages\\sklearn\\utils\\deprecation.py:122: FutureWarning: You are accessing a training score ('split1_train_score'), which will not be available by default any more in 0.21. If you need training scores, please set return_train_score=True\n",
      "  warnings.warn(*warn_args, **warn_kwargs)\n",
      "G:\\Python\\lib\\site-packages\\sklearn\\utils\\deprecation.py:122: FutureWarning: You are accessing a training score ('split2_train_score'), which will not be available by default any more in 0.21. If you need training scores, please set return_train_score=True\n",
      "  warnings.warn(*warn_args, **warn_kwargs)\n",
      "G:\\Python\\lib\\site-packages\\sklearn\\utils\\deprecation.py:122: FutureWarning: You are accessing a training score ('split3_train_score'), which will not be available by default any more in 0.21. If you need training scores, please set return_train_score=True\n",
      "  warnings.warn(*warn_args, **warn_kwargs)\n",
      "G:\\Python\\lib\\site-packages\\sklearn\\utils\\deprecation.py:122: FutureWarning: You are accessing a training score ('split4_train_score'), which will not be available by default any more in 0.21. If you need training scores, please set return_train_score=True\n",
      "  warnings.warn(*warn_args, **warn_kwargs)\n",
      "G:\\Python\\lib\\site-packages\\sklearn\\utils\\deprecation.py:122: FutureWarning: You are accessing a training score ('std_train_score'), which will not be available by default any more in 0.21. If you need training scores, please set return_train_score=True\n",
      "  warnings.warn(*warn_args, **warn_kwargs)\n"
     ]
    },
    {
     "data": {
      "text/plain": [
       "{'mean_fit_time': array([ 0.01593533,  0.01981196,  0.02421679,  0.02361741,  0.03442373,\n",
       "         0.04162874,  0.03722644,  0.03702559,  0.04723263,  0.05844183,\n",
       "         0.04042816,  0.03882804,  0.04843354,  0.0462326 ,  0.0476337 ,\n",
       "         0.04823394,  0.05323567,  0.05924191,  0.07405329,  0.06304574,\n",
       "         0.05924215,  0.05803995,  0.07085032,  0.06284471,  0.07325144,\n",
       "         0.07305155,  0.06624742,  0.06584601,  0.0836576 ,  0.10387297,\n",
       "         0.09506688,  0.10087094,  0.08806252,  0.10547404,  0.09166422,\n",
       "         0.08265867]),\n",
       " 'mean_score_time': array([ 0.00120101,  0.00220456,  0.00240273,  0.00220108,  0.00260243,\n",
       "         0.00220184,  0.00200205,  0.003403  ,  0.00340281,  0.00200114,\n",
       "         0.00380311,  0.00220127,  0.00200162,  0.00220137,  0.00200186,\n",
       "         0.00200176,  0.00200191,  0.00220156,  0.00200205,  0.00180182,\n",
       "         0.00220213,  0.00200214,  0.00220294,  0.00480342,  0.00260229,\n",
       "         0.00240149,  0.00240111,  0.00260229,  0.00400314,  0.00260277,\n",
       "         0.00240173,  0.0022017 ,  0.00280323,  0.00260248,  0.00220203,\n",
       "         0.00220203]),\n",
       " 'mean_test_score': array([ 0.71828571,  0.71828571,  0.71828571,  0.71828571,  0.73019048,\n",
       "         0.73019048,  0.73019048,  0.73019048,  0.73242857,  0.73242857,\n",
       "         0.73242857,  0.73209524,  0.73061905,  0.73061905,  0.73066667,\n",
       "         0.73033333,  0.72985714,  0.72980952,  0.72971429,  0.72957143,\n",
       "         0.73080952,  0.73042857,  0.73      ,  0.73009524,  0.72761905,\n",
       "         0.72728571,  0.72671429,  0.72628571,  0.72161905,  0.72195238,\n",
       "         0.72209524,  0.72152381,  0.71971429,  0.71890476,  0.71904762,\n",
       "         0.71857143]),\n",
       " 'mean_train_score': array([ 0.7186429 ,  0.7186429 ,  0.7186429 ,  0.7186429 ,  0.73075005,\n",
       "         0.73075005,  0.73075005,  0.73075005,  0.73388102,  0.73388102,\n",
       "         0.73388102,  0.73378579,  0.73759533,  0.73757152,  0.73754771,\n",
       "         0.73753581,  0.74144056,  0.74125009,  0.74114294,  0.74105961,\n",
       "         0.74794049,  0.74748811,  0.74744049,  0.74716669,  0.75466668,\n",
       "         0.7537143 ,  0.75309525,  0.75278573,  0.76361905,  0.76183331,\n",
       "         0.7612857 ,  0.76045236,  0.7734285 ,  0.77059516,  0.7689285 ,\n",
       "         0.7671428 ]),\n",
       " 'param_max_depth': masked_array(data = [2 2 2 2 3 3 3 3 4 4 4 4 5 5 5 5 6 6 6 6 7 7 7 7 8 8 8 8 9 9 9 9 10 10 10\n",
       "  10],\n",
       "              mask = [False False False False False False False False False False False False\n",
       "  False False False False False False False False False False False False\n",
       "  False False False False False False False False False False False False],\n",
       "        fill_value = ?),\n",
       " 'param_min_samples_leaf': masked_array(data = [1 2 3 4 1 2 3 4 1 2 3 4 1 2 3 4 1 2 3 4 1 2 3 4 1 2 3 4 1 2 3 4 1 2 3 4],\n",
       "              mask = [False False False False False False False False False False False False\n",
       "  False False False False False False False False False False False False\n",
       "  False False False False False False False False False False False False],\n",
       "        fill_value = ?),\n",
       " 'params': [{'max_depth': 2, 'min_samples_leaf': 1},\n",
       "  {'max_depth': 2, 'min_samples_leaf': 2},\n",
       "  {'max_depth': 2, 'min_samples_leaf': 3},\n",
       "  {'max_depth': 2, 'min_samples_leaf': 4},\n",
       "  {'max_depth': 3, 'min_samples_leaf': 1},\n",
       "  {'max_depth': 3, 'min_samples_leaf': 2},\n",
       "  {'max_depth': 3, 'min_samples_leaf': 3},\n",
       "  {'max_depth': 3, 'min_samples_leaf': 4},\n",
       "  {'max_depth': 4, 'min_samples_leaf': 1},\n",
       "  {'max_depth': 4, 'min_samples_leaf': 2},\n",
       "  {'max_depth': 4, 'min_samples_leaf': 3},\n",
       "  {'max_depth': 4, 'min_samples_leaf': 4},\n",
       "  {'max_depth': 5, 'min_samples_leaf': 1},\n",
       "  {'max_depth': 5, 'min_samples_leaf': 2},\n",
       "  {'max_depth': 5, 'min_samples_leaf': 3},\n",
       "  {'max_depth': 5, 'min_samples_leaf': 4},\n",
       "  {'max_depth': 6, 'min_samples_leaf': 1},\n",
       "  {'max_depth': 6, 'min_samples_leaf': 2},\n",
       "  {'max_depth': 6, 'min_samples_leaf': 3},\n",
       "  {'max_depth': 6, 'min_samples_leaf': 4},\n",
       "  {'max_depth': 7, 'min_samples_leaf': 1},\n",
       "  {'max_depth': 7, 'min_samples_leaf': 2},\n",
       "  {'max_depth': 7, 'min_samples_leaf': 3},\n",
       "  {'max_depth': 7, 'min_samples_leaf': 4},\n",
       "  {'max_depth': 8, 'min_samples_leaf': 1},\n",
       "  {'max_depth': 8, 'min_samples_leaf': 2},\n",
       "  {'max_depth': 8, 'min_samples_leaf': 3},\n",
       "  {'max_depth': 8, 'min_samples_leaf': 4},\n",
       "  {'max_depth': 9, 'min_samples_leaf': 1},\n",
       "  {'max_depth': 9, 'min_samples_leaf': 2},\n",
       "  {'max_depth': 9, 'min_samples_leaf': 3},\n",
       "  {'max_depth': 9, 'min_samples_leaf': 4},\n",
       "  {'max_depth': 10, 'min_samples_leaf': 1},\n",
       "  {'max_depth': 10, 'min_samples_leaf': 2},\n",
       "  {'max_depth': 10, 'min_samples_leaf': 3},\n",
       "  {'max_depth': 10, 'min_samples_leaf': 4}],\n",
       " 'rank_test_score': array([33, 33, 33, 33, 11, 11, 11, 11,  1,  1,  1,  4,  7,  7,  6, 10, 17,\n",
       "        18, 19, 20,  5,  9, 16, 15, 21, 22, 23, 24, 27, 26, 25, 28, 29, 31,\n",
       "        30, 32]),\n",
       " 'split0_test_score': array([ 0.71673411,  0.71673411,  0.71673411,  0.71673411,  0.72911212,\n",
       "         0.72911212,  0.72911212,  0.72911212,  0.72458938,  0.72458938,\n",
       "         0.72458938,  0.72458938,  0.7253035 ,  0.7253035 ,  0.7253035 ,\n",
       "         0.7253035 ,  0.72268507,  0.72268507,  0.722209  ,  0.722209  ,\n",
       "         0.72720781,  0.72696977,  0.72577958,  0.72554154,  0.72792192,\n",
       "         0.72815996,  0.72577958,  0.72673173,  0.71697215,  0.71768627,\n",
       "         0.71887646,  0.7191145 ,  0.71554392,  0.71435373,  0.7148298 ,\n",
       "         0.71649607]),\n",
       " 'split0_train_score': array([ 0.71909042,  0.71909042,  0.71909042,  0.71909042,  0.73129353,\n",
       "         0.73129353,  0.73129353,  0.73129353,  0.73700816,  0.73700816,\n",
       "         0.73700816,  0.73700816,  0.73974641,  0.73974641,  0.73962736,\n",
       "         0.73962736,  0.74224656,  0.74206798,  0.7418894 ,  0.7418894 ,\n",
       "         0.74891363,  0.74831835,  0.74849693,  0.74837788,  0.75534258,\n",
       "         0.75433061,  0.75409251,  0.75379487,  0.76337877,  0.76183106,\n",
       "         0.76099768,  0.76028335,  0.77206977,  0.76903387,  0.767129  ,\n",
       "         0.76587892]),\n",
       " 'split1_test_score': array([ 0.71435373,  0.71435373,  0.71435373,  0.71435373,  0.72387527,\n",
       "         0.72387527,  0.72387527,  0.72387527,  0.72958819,  0.72958819,\n",
       "         0.72958819,  0.72935015,  0.72815996,  0.72815996,  0.72815996,\n",
       "         0.72768388,  0.72649369,  0.72649369,  0.72696977,  0.72720781,\n",
       "         0.72649369,  0.72625565,  0.72720781,  0.72744585,  0.72292311,\n",
       "         0.72316115,  0.72387527,  0.72197096,  0.71863842,  0.72006665,\n",
       "         0.71721019,  0.71744823,  0.71721019,  0.71602   ,  0.71840038,\n",
       "         0.71887646]),\n",
       " 'split1_train_score': array([ 0.71950711,  0.71950711,  0.71950711,  0.71950711,  0.73206738,\n",
       "         0.73206738,  0.73206738,  0.73206738,  0.73421037,  0.73421037,\n",
       "         0.73421037,  0.73403179,  0.73903209,  0.73903209,  0.73903209,\n",
       "         0.73903209,  0.74337758,  0.74325853,  0.74307995,  0.74307995,\n",
       "         0.74736591,  0.74706828,  0.74683017,  0.74659206,  0.75403298,\n",
       "         0.75314007,  0.75206858,  0.75188999,  0.76361688,  0.76070004,\n",
       "         0.76064051,  0.75891422,  0.77111733,  0.76790285,  0.7667123 ,\n",
       "         0.76498601]),\n",
       " 'split2_test_score': array([ 0.71571429,  0.71571429,  0.71571429,  0.71571429,  0.72761905,\n",
       "         0.72761905,  0.72761905,  0.72761905,  0.73380952,  0.73380952,\n",
       "         0.73380952,  0.73380952,  0.72880952,  0.72880952,  0.72880952,\n",
       "         0.72880952,  0.73190476,  0.73166667,  0.73047619,  0.73071429,\n",
       "         0.72880952,  0.72904762,  0.72738095,  0.72809524,  0.72690476,\n",
       "         0.72690476,  0.725     ,  0.72380952,  0.72547619,  0.72571429,\n",
       "         0.72666667,  0.72666667,  0.72166667,  0.72095238,  0.72190476,\n",
       "         0.71833333]),\n",
       " 'split2_train_score': array([ 0.71934524,  0.71934524,  0.71934524,  0.71934524,  0.73142857,\n",
       "         0.73142857,  0.73142857,  0.73142857,  0.73303571,  0.73303571,\n",
       "         0.73303571,  0.73303571,  0.73821429,  0.73815476,  0.73815476,\n",
       "         0.73803571,  0.74309524,  0.74285714,  0.74279762,  0.74255952,\n",
       "         0.74869048,  0.74809524,  0.74803571,  0.7475    ,  0.75565476,\n",
       "         0.75470238,  0.75392857,  0.7539881 ,  0.76440476,  0.76255952,\n",
       "         0.76208333,  0.76208333,  0.77517857,  0.77291667,  0.7710119 ,\n",
       "         0.76928571]),\n",
       " 'split3_test_score': array([ 0.73350798,  0.73350798,  0.73350798,  0.73350798,  0.74422482,\n",
       "         0.74422482,  0.74422482,  0.74422482,  0.74422482,  0.74422482,\n",
       "         0.74422482,  0.74398666,  0.73779471,  0.73779471,  0.73779471,\n",
       "         0.73684211,  0.74065254,  0.74065254,  0.74136699,  0.74065254,\n",
       "         0.7423196 ,  0.74112884,  0.74089069,  0.7418433 ,  0.73922362,\n",
       "         0.73827102,  0.73827102,  0.73898547,  0.73350798,  0.73374613,\n",
       "         0.73398428,  0.73303167,  0.73017385,  0.7299357 ,  0.72874494,\n",
       "         0.72826864]),\n",
       " 'split3_train_score': array([ 0.71477888,  0.71477888,  0.71477888,  0.71477888,  0.7271591 ,\n",
       "         0.7271591 ,  0.7271591 ,  0.7271591 ,  0.73084935,  0.73084935,\n",
       "         0.73084935,  0.73067079,  0.73376585,  0.73376585,  0.73376585,\n",
       "         0.73376585,  0.73799179,  0.73781323,  0.73769418,  0.73763466,\n",
       "         0.74662222,  0.74614606,  0.74614606,  0.7459675 ,  0.75233617,\n",
       "         0.75156241,  0.75090768,  0.75025296,  0.76072853,  0.75924052,\n",
       "         0.75834772,  0.75733587,  0.77126362,  0.76840664,  0.76632343,\n",
       "         0.76471639]),\n",
       " 'split4_test_score': array([ 0.7111217 ,  0.7111217 ,  0.7111217 ,  0.7111217 ,  0.72612527,\n",
       "         0.72612527,  0.72612527,  0.72612527,  0.7299357 ,  0.7299357 ,\n",
       "         0.7299357 ,  0.72874494,  0.73303167,  0.73303167,  0.73326983,\n",
       "         0.73303167,  0.72755418,  0.72755418,  0.72755418,  0.72707788,\n",
       "         0.72922124,  0.72874494,  0.72874494,  0.72755418,  0.72112408,\n",
       "         0.71993332,  0.72064777,  0.71993332,  0.71350322,  0.71255061,\n",
       "         0.71374137,  0.71135985,  0.71397952,  0.71326506,  0.71135985,\n",
       "         0.71088354]),\n",
       " 'split4_train_score': array([ 0.72049283,  0.72049283,  0.72049283,  0.72049283,  0.73180168,\n",
       "         0.73180168,  0.73180168,  0.73180168,  0.73430153,  0.73430153,\n",
       "         0.73430153,  0.73418249,  0.73721802,  0.7371585 ,  0.7371585 ,\n",
       "         0.73721802,  0.74049164,  0.74025356,  0.74025356,  0.74013452,\n",
       "         0.74811023,  0.74781263,  0.74769359,  0.74739599,  0.75596691,\n",
       "         0.75483602,  0.7544789 ,  0.75400274,  0.76596631,  0.76483543,\n",
       "         0.76435926,  0.76364502,  0.77751324,  0.77471579,  0.77346587,\n",
       "         0.77084697]),\n",
       " 'std_fit_time': array([ 0.00261359,  0.00325618,  0.00248345,  0.00120096,  0.00265516,\n",
       "         0.0138024 ,  0.00608324,  0.00447516,  0.00900489,  0.0164381 ,\n",
       "         0.00647222,  0.00325123,  0.00241823,  0.00337261,  0.00723327,\n",
       "         0.00204077,  0.00402369,  0.00922418,  0.00951439,  0.00858476,\n",
       "         0.0036574 ,  0.00126538,  0.01162557,  0.00483673,  0.00697326,\n",
       "         0.0050229 ,  0.0042646 ,  0.00240231,  0.01088143,  0.04763376,\n",
       "         0.0350271 ,  0.0252162 ,  0.01133933,  0.02847027,  0.02020943,\n",
       "         0.02335428]),\n",
       " 'std_score_time': array([  7.48940038e-04,   7.43082343e-04,   4.90214629e-04,\n",
       "          4.00784766e-04,   7.99942372e-04,   4.00042914e-04,\n",
       "          1.04904175e-06,   2.33468157e-03,   1.85598809e-03,\n",
       "          8.60951905e-07,   3.60281469e-03,   4.00567264e-04,\n",
       "          6.33088393e-04,   4.00401226e-04,   1.26698782e-06,\n",
       "          1.04469787e-06,   5.13569337e-07,   3.98993987e-04,\n",
       "          1.07049677e-06,   4.00711932e-04,   3.99780615e-04,\n",
       "          7.92181383e-07,   4.00690137e-04,   5.64113924e-03,\n",
       "          4.90038924e-04,   8.00002060e-04,   8.00848298e-04,\n",
       "          8.00765723e-04,   4.00311951e-03,   8.00884176e-04,\n",
       "          4.89959858e-04,   4.00472323e-04,   4.00257735e-04,\n",
       "          8.00324097e-04,   4.00424554e-04,   4.00066461e-04]),\n",
       " 'std_test_score': array([ 0.00784165,  0.00784165,  0.00784165,  0.00784165,  0.0072264 ,\n",
       "         0.0072264 ,  0.0072264 ,  0.0072264 ,  0.00658446,  0.00658446,\n",
       "         0.00658446,  0.00662452,  0.00435619,  0.00435619,  0.00438352,\n",
       "         0.00410565,  0.0061445 ,  0.00612935,  0.00640118,  0.00616588,\n",
       "         0.00584087,  0.00545148,  0.00552499,  0.00593635,  0.00631613,\n",
       "         0.00620675,  0.00603647,  0.00673113,  0.00710671,  0.00725733,\n",
       "         0.0072968 ,  0.00754388,  0.00582642,  0.0061104 ,  0.00599133,\n",
       "         0.00561357]),\n",
       " 'std_train_score': array([ 0.00198964,  0.00198964,  0.00198964,  0.00198964,  0.00181615,\n",
       "         0.00181615,  0.00181615,  0.00181615,  0.00199849,  0.00199849,\n",
       "         0.00199849,  0.00204291,  0.00209198,  0.0020908 ,  0.00206644,\n",
       "         0.00205801,  0.0019967 ,  0.00200452,  0.00198656,  0.00198021,\n",
       "         0.00084926,  0.00079254,  0.00084646,  0.00082449,  0.0013384 ,\n",
       "         0.00123084,  0.00137426,  0.00149415,  0.00170528,  0.00187334,\n",
       "         0.00196031,  0.00223428,  0.00251485,  0.00271458,  0.00282363,\n",
       "         0.00246778])}"
      ]
     },
     "execution_count": 359,
     "metadata": {},
     "output_type": "execute_result"
    }
   ],
   "source": [
    "tree_grid.cv_results_"
   ]
  },
  {
   "cell_type": "code",
   "execution_count": 360,
   "metadata": {
    "scrolled": true
   },
   "outputs": [
    {
     "name": "stdout",
     "output_type": "stream",
     "text": [
      "Best score: 0.732429\n"
     ]
    }
   ],
   "source": [
    "  print ('Best score: %0.6f' % tree_grid.best_score_)"
   ]
  },
  {
   "cell_type": "markdown",
   "metadata": {},
   "source": [
    "Выведите лучшее значение `max_depth`, то есть такое, при котором среднее значение метрики качества на кросс-валидации максимально. Посчитайте также, какова теперь доля верных ответов на отложенной выборке. Все это можно сделать с помощью обученного экземпляра класса `GridSearchCV`."
   ]
  },
  {
   "cell_type": "code",
   "execution_count": 361,
   "metadata": {},
   "outputs": [
    {
     "name": "stdout",
     "output_type": "stream",
     "text": [
      "Best params: {'max_depth': 4, 'min_samples_leaf': 1}\n",
      "Best cross validaton score 0.732428571429\n"
     ]
    }
   ],
   "source": [
    "print(\"Best params:\", tree_grid.best_params_)\n",
    "acc2 = tree_grid.best_score_\n",
    "print(\"Best cross validaton score\", acc2)"
   ]
  },
  {
   "cell_type": "code",
   "execution_count": 362,
   "metadata": {
    "scrolled": true
   },
   "outputs": [
    {
     "data": {
      "text/plain": [
       "[<matplotlib.lines.Line2D at 0x18ab33a92b0>]"
      ]
     },
     "execution_count": 362,
     "metadata": {},
     "output_type": "execute_result"
    },
    {
     "data": {
      "image/png": "[encoded data removed]",
      "text/plain": [
       "<matplotlib.figure.Figure at 0x18ab33a97b8>"
      ]
     },
     "metadata": {},
     "output_type": "display_data"
    }
   ],
   "source": [
    "params = [i for i in range(2, 11)]\n",
    "accuracy_score_list = []\n",
    "\n",
    "for i in range(len(params)):\n",
    "   tree = DecisionTreeClassifier(max_depth=params[i], random_state=17)\n",
    "   tree_fit = tree.fit(X_train, y_train)\n",
    "   y_pred = tree_fit.predict(X_valid)\n",
    "   accuracy_score_list.append(accuracy_score(y_valid, y_pred))\n",
    "\n",
    "fig, ax = plt.subplots(figsize=(20, 10))\n",
    "plt.plot(max_depth, accuracy_score_list)"
   ]
  },
  {
   "cell_type": "code",
   "execution_count": 363,
   "metadata": {},
   "outputs": [
    {
     "name": "stderr",
     "output_type": "stream",
     "text": [
      "G:\\Python\\lib\\site-packages\\sklearn\\model_selection\\_search.py:761: DeprecationWarning: The grid_scores_ attribute was deprecated in version 0.18 in favor of the more elaborate cv_results_ attribute. The grid_scores_ attribute will not be available from 0.20\n",
      "  DeprecationWarning)\n"
     ]
    },
    {
     "data": {
      "text/plain": [
       "[mean: 0.71829, std: 0.00784, params: {'max_depth': 2, 'min_samples_leaf': 1},\n",
       " mean: 0.71829, std: 0.00784, params: {'max_depth': 2, 'min_samples_leaf': 2},\n",
       " mean: 0.71829, std: 0.00784, params: {'max_depth': 2, 'min_samples_leaf': 3},\n",
       " mean: 0.71829, std: 0.00784, params: {'max_depth': 2, 'min_samples_leaf': 4},\n",
       " mean: 0.73019, std: 0.00723, params: {'max_depth': 3, 'min_samples_leaf': 1},\n",
       " mean: 0.73019, std: 0.00723, params: {'max_depth': 3, 'min_samples_leaf': 2},\n",
       " mean: 0.73019, std: 0.00723, params: {'max_depth': 3, 'min_samples_leaf': 3},\n",
       " mean: 0.73019, std: 0.00723, params: {'max_depth': 3, 'min_samples_leaf': 4},\n",
       " mean: 0.73243, std: 0.00658, params: {'max_depth': 4, 'min_samples_leaf': 1},\n",
       " mean: 0.73243, std: 0.00658, params: {'max_depth': 4, 'min_samples_leaf': 2},\n",
       " mean: 0.73243, std: 0.00658, params: {'max_depth': 4, 'min_samples_leaf': 3},\n",
       " mean: 0.73210, std: 0.00662, params: {'max_depth': 4, 'min_samples_leaf': 4},\n",
       " mean: 0.73062, std: 0.00436, params: {'max_depth': 5, 'min_samples_leaf': 1},\n",
       " mean: 0.73062, std: 0.00436, params: {'max_depth': 5, 'min_samples_leaf': 2},\n",
       " mean: 0.73067, std: 0.00438, params: {'max_depth': 5, 'min_samples_leaf': 3},\n",
       " mean: 0.73033, std: 0.00411, params: {'max_depth': 5, 'min_samples_leaf': 4},\n",
       " mean: 0.72986, std: 0.00614, params: {'max_depth': 6, 'min_samples_leaf': 1},\n",
       " mean: 0.72981, std: 0.00613, params: {'max_depth': 6, 'min_samples_leaf': 2},\n",
       " mean: 0.72971, std: 0.00640, params: {'max_depth': 6, 'min_samples_leaf': 3},\n",
       " mean: 0.72957, std: 0.00617, params: {'max_depth': 6, 'min_samples_leaf': 4},\n",
       " mean: 0.73081, std: 0.00584, params: {'max_depth': 7, 'min_samples_leaf': 1},\n",
       " mean: 0.73043, std: 0.00545, params: {'max_depth': 7, 'min_samples_leaf': 2},\n",
       " mean: 0.73000, std: 0.00553, params: {'max_depth': 7, 'min_samples_leaf': 3},\n",
       " mean: 0.73010, std: 0.00594, params: {'max_depth': 7, 'min_samples_leaf': 4},\n",
       " mean: 0.72762, std: 0.00632, params: {'max_depth': 8, 'min_samples_leaf': 1},\n",
       " mean: 0.72729, std: 0.00621, params: {'max_depth': 8, 'min_samples_leaf': 2},\n",
       " mean: 0.72671, std: 0.00604, params: {'max_depth': 8, 'min_samples_leaf': 3},\n",
       " mean: 0.72629, std: 0.00673, params: {'max_depth': 8, 'min_samples_leaf': 4},\n",
       " mean: 0.72162, std: 0.00711, params: {'max_depth': 9, 'min_samples_leaf': 1},\n",
       " mean: 0.72195, std: 0.00726, params: {'max_depth': 9, 'min_samples_leaf': 2},\n",
       " mean: 0.72210, std: 0.00730, params: {'max_depth': 9, 'min_samples_leaf': 3},\n",
       " mean: 0.72152, std: 0.00754, params: {'max_depth': 9, 'min_samples_leaf': 4},\n",
       " mean: 0.71971, std: 0.00583, params: {'max_depth': 10, 'min_samples_leaf': 1},\n",
       " mean: 0.71890, std: 0.00611, params: {'max_depth': 10, 'min_samples_leaf': 2},\n",
       " mean: 0.71905, std: 0.00599, params: {'max_depth': 10, 'min_samples_leaf': 3},\n",
       " mean: 0.71857, std: 0.00561, params: {'max_depth': 10, 'min_samples_leaf': 4}]"
      ]
     },
     "execution_count": 363,
     "metadata": {},
     "output_type": "execute_result"
    }
   ],
   "source": [
    "tree_grid.grid_scores_"
   ]
  },
  {
   "cell_type": "markdown",
   "metadata": {},
   "source": [
    "**<font color='red'>Вопрос 4.</font> Имеется ли на кривой валидации по максимальной глубине дерева пик `accuracy`, если перебирать `max_depth` от 2 до 10? Повысила ли настройка глубины дерева качество классификации (accuracy) более чем на 1% на отложенной выборке (надо посмотреть на выражение (acc2 - acc1) / acc1 * 100%, где acc1 и acc2 – доли верных ответов на отложенной выборке до и после настройки max_depth соответственно)?**\n",
    "- да, да\n",
    "- да, нет\n",
    "- нет, да\n",
    "- нет, нет"
   ]
  },
  {
   "cell_type": "code",
   "execution_count": 364,
   "metadata": {
    "scrolled": true
   },
   "outputs": [
    {
     "name": "stdout",
     "output_type": "stream",
     "text": [
      "1.24978841054 %\n"
     ]
    }
   ],
   "source": [
    "accu_rate = (((acc2 - acc1)/acc1)*100)\n",
    "print(accu_rate,\"%\")"
   ]
  },
  {
   "cell_type": "code",
   "execution_count": 365,
   "metadata": {},
   "outputs": [
    {
     "data": {
      "text/plain": [
       "0.72746938775510206"
      ]
     },
     "execution_count": 365,
     "metadata": {},
     "output_type": "execute_result"
    }
   ],
   "source": [
    "predictions = tree_grid.predict(X_valid)\n",
    "accuracy_score(y_valid, predictions)"
   ]
  },
  {
   "cell_type": "markdown",
   "metadata": {},
   "source": [
    "Обратимся опять (как и в 1 домашке) к картинке, демонстрирующей шкалу SCORE для расчёта риска смерти от сердечно-сосудистого заболевания в ближайшие 10 лет.\n",
    "<img src='../../img/SCORE2007.png' width=70%>\n",
    "\n",
    "Создайте бинарные признаки, примерно соответствующие этой картинке:\n",
    "- $age \\in [45,50), \\ldots age \\in [60,65) $ (4 признака)\n",
    "- верхнее артериальное давление: $ap\\_hi \\in [120,140), ap\\_hi \\in [140,160), ap\\_hi \\in [160,180),$ (3 признака)\n",
    "\n",
    "Если значение возраста или артериального давления не попадает ни в один из интервалов, то все бинарные признаки будут равны нулю. Далее будем строить дерево решений с этим признаками, а также с признаками ``smoke``, ``cholesterol``  и ``gender``. Из признака ``cholesterol`` надо сделать 3 бинарных, соотв-х уникальным значениям признака ( ``cholesterol``=1,  ``cholesterol``=2 и  ``cholesterol``=3), эта техника называется dummy-кодированием или One Hot Encoding (OHE). Признак ``gender`` надо перекодировать: значения 1 и 2 отобразить на 0 и 1. Признак лучше переименовать в ``male`` (0 – женщина, 1 – мужчина). В общем случае кодирование значений делает ``sklearn.preprocessing.LabelEncoder``, но в данном случае легко обойтись и без него.\n",
    "\n",
    "Итак, дерево решений строится на 12 бинарных признаках (исходные признаки не берем).\n",
    "\n",
    "Постройте дерево решений с ограничением на максимальную глубину = 3 и обучите его на всей исходной обучающей выборке. Используйте `DecisionTreeClassifier`, на всякий случай зафикисровав `random_state=17`, остальные аргументы (помимо `max_depth` и `random_state`) оставьте по умолчанию. \n",
    "\n",
    "**<font color='red'>Вопрос 5.</font> Какой бинарный признак из 12 перечисленных оказался самым важным для обнаружения ССЗ, то есть поместился в вершину построенного дерева решений?**\n",
    "- Верхнее артериальное давление от 160 до 180 (мм рт.ст.)\n",
    "- Пол мужской / женский\n",
    "- Верхнее артериальное давление от 140 до 160 (мм рт.ст.)\n",
    "- Возраст от 50 до 55 (лет)\n",
    "- Курит / не курит\n",
    "- Возраст от 60 до 65 (лет)"
   ]
  },
  {
   "cell_type": "code",
   "execution_count": 368,
   "metadata": {
    "collapsed": true,
    "scrolled": true
   },
   "outputs": [],
   "source": [
    "df[\"age_4550\"] = df[\"age\"].apply(lambda x: 1 if x >= 45 and x < 50 else 0)\n",
    "df[\"age_5055\"] = df[\"age\"].apply(lambda x: 1 if x >= 50 and x < 55 else 0)\n",
    "df[\"age_5560\"] = df[\"age\"].apply(lambda x: 1 if x >= 55 and x < 60 else 0)\n",
    "df[\"age_6065\"] = df[\"age\"].apply(lambda x: 1 if x >= 60 and x < 65 else 0)\n",
    "df[\"ap_hi_120140\"] = df[\"ap_hi\"].apply(lambda x: 1 if x >= 120 and x < 140 else 0)\n",
    "df[\"ap_hi_140160\"] = df[\"ap_hi\"].apply(lambda x: 1 if x >= 140 and x < 160 else 0)\n",
    "df[\"ap_hi_160180\"] = df[\"ap_hi\"].apply(lambda x: 1 if x >= 160 and x < 180 else 0)\n",
    "df['gender'].replace([1,2],['0','1'], inplace=True)\n",
    "df['male'] = df['gender']\n"
   ]
  },
  {
   "cell_type": "code",
   "execution_count": 381,
   "metadata": {
    "collapsed": true
   },
   "outputs": [],
   "source": [
    "df.drop(['gluc_1', 'gluc_2', 'gluc_3'], axis = 1, inplace=True)"
   ]
  },
  {
   "cell_type": "code",
   "execution_count": 382,
   "metadata": {},
   "outputs": [
    {
     "data": {
      "text/html": [
       "<div>\n",
       "<style>\n",
       "    .dataframe thead tr:only-child th {\n",
       "        text-align: right;\n",
       "    }\n",
       "\n",
       "    .dataframe thead th {\n",
       "        text-align: left;\n",
       "    }\n",
       "\n",
       "    .dataframe tbody tr th {\n",
       "        vertical-align: top;\n",
       "    }\n",
       "</style>\n",
       "<table border=\"1\" class=\"dataframe\">\n",
       "  <thead>\n",
       "    <tr style=\"text-align: right;\">\n",
       "      <th></th>\n",
       "      <th>smoke</th>\n",
       "      <th>cardio</th>\n",
       "      <th>cholesterol_1</th>\n",
       "      <th>cholesterol_2</th>\n",
       "      <th>cholesterol_3</th>\n",
       "      <th>age_4550</th>\n",
       "      <th>age_5055</th>\n",
       "      <th>age_5560</th>\n",
       "      <th>age_6065</th>\n",
       "      <th>ap_hi_120140</th>\n",
       "      <th>ap_hi_140160</th>\n",
       "      <th>ap_hi_160180</th>\n",
       "      <th>male</th>\n",
       "    </tr>\n",
       "    <tr>\n",
       "      <th>id</th>\n",
       "      <th></th>\n",
       "      <th></th>\n",
       "      <th></th>\n",
       "      <th></th>\n",
       "      <th></th>\n",
       "      <th></th>\n",
       "      <th></th>\n",
       "      <th></th>\n",
       "      <th></th>\n",
       "      <th></th>\n",
       "      <th></th>\n",
       "      <th></th>\n",
       "      <th></th>\n",
       "    </tr>\n",
       "  </thead>\n",
       "  <tbody>\n",
       "    <tr>\n",
       "      <th>0</th>\n",
       "      <td>0</td>\n",
       "      <td>0</td>\n",
       "      <td>1</td>\n",
       "      <td>0</td>\n",
       "      <td>0</td>\n",
       "      <td>0</td>\n",
       "      <td>1</td>\n",
       "      <td>0</td>\n",
       "      <td>0</td>\n",
       "      <td>0</td>\n",
       "      <td>0</td>\n",
       "      <td>0</td>\n",
       "      <td>1</td>\n",
       "    </tr>\n",
       "    <tr>\n",
       "      <th>1</th>\n",
       "      <td>0</td>\n",
       "      <td>1</td>\n",
       "      <td>0</td>\n",
       "      <td>0</td>\n",
       "      <td>1</td>\n",
       "      <td>0</td>\n",
       "      <td>0</td>\n",
       "      <td>1</td>\n",
       "      <td>0</td>\n",
       "      <td>0</td>\n",
       "      <td>1</td>\n",
       "      <td>0</td>\n",
       "      <td>0</td>\n",
       "    </tr>\n",
       "    <tr>\n",
       "      <th>2</th>\n",
       "      <td>0</td>\n",
       "      <td>1</td>\n",
       "      <td>0</td>\n",
       "      <td>0</td>\n",
       "      <td>1</td>\n",
       "      <td>0</td>\n",
       "      <td>1</td>\n",
       "      <td>0</td>\n",
       "      <td>0</td>\n",
       "      <td>1</td>\n",
       "      <td>0</td>\n",
       "      <td>0</td>\n",
       "      <td>0</td>\n",
       "    </tr>\n",
       "    <tr>\n",
       "      <th>3</th>\n",
       "      <td>0</td>\n",
       "      <td>1</td>\n",
       "      <td>1</td>\n",
       "      <td>0</td>\n",
       "      <td>0</td>\n",
       "      <td>1</td>\n",
       "      <td>0</td>\n",
       "      <td>0</td>\n",
       "      <td>0</td>\n",
       "      <td>0</td>\n",
       "      <td>1</td>\n",
       "      <td>0</td>\n",
       "      <td>1</td>\n",
       "    </tr>\n",
       "    <tr>\n",
       "      <th>4</th>\n",
       "      <td>0</td>\n",
       "      <td>0</td>\n",
       "      <td>1</td>\n",
       "      <td>0</td>\n",
       "      <td>0</td>\n",
       "      <td>1</td>\n",
       "      <td>0</td>\n",
       "      <td>0</td>\n",
       "      <td>0</td>\n",
       "      <td>0</td>\n",
       "      <td>0</td>\n",
       "      <td>0</td>\n",
       "      <td>0</td>\n",
       "    </tr>\n",
       "  </tbody>\n",
       "</table>\n",
       "</div>"
      ],
      "text/plain": [
       "    smoke  cardio  cholesterol_1  cholesterol_2  cholesterol_3  age_4550  \\\n",
       "id                                                                         \n",
       "0       0       0              1              0              0         0   \n",
       "1       0       1              0              0              1         0   \n",
       "2       0       1              0              0              1         0   \n",
       "3       0       1              1              0              0         1   \n",
       "4       0       0              1              0              0         1   \n",
       "\n",
       "    age_5055  age_5560  age_6065  ap_hi_120140  ap_hi_140160  ap_hi_160180  \\\n",
       "id                                                                           \n",
       "0          1         0         0             0             0             0   \n",
       "1          0         1         0             0             1             0   \n",
       "2          1         0         0             1             0             0   \n",
       "3          0         0         0             0             1             0   \n",
       "4          0         0         0             0             0             0   \n",
       "\n",
       "   male  \n",
       "id       \n",
       "0     1  \n",
       "1     0  \n",
       "2     0  \n",
       "3     1  \n",
       "4     0  "
      ]
     },
     "execution_count": 382,
     "metadata": {},
     "output_type": "execute_result"
    }
   ],
   "source": [
    "df.head(5)"
   ]
  },
  {
   "cell_type": "code",
   "execution_count": 372,
   "metadata": {},
   "outputs": [
    {
     "data": {
      "text/plain": [
       "0    53923\n",
       "1    16077\n",
       "Name: age_5560, dtype: int64"
      ]
     },
     "execution_count": 372,
     "metadata": {},
     "output_type": "execute_result"
    }
   ],
   "source": [
    "df['age_5560'].value_counts()"
   ]
  },
  {
   "cell_type": "code",
   "execution_count": 338,
   "metadata": {},
   "outputs": [
    {
     "data": {
      "text/plain": [
       "0    55564\n",
       "1    14436\n",
       "Name: ap_hi_140160, dtype: int64"
      ]
     },
     "execution_count": 338,
     "metadata": {},
     "output_type": "execute_result"
    }
   ],
   "source": [
    "df['ap_hi_140160'].value_counts()"
   ]
  },
  {
   "cell_type": "code",
   "execution_count": 339,
   "metadata": {},
   "outputs": [
    {
     "data": {
      "text/plain": [
       "1    37561\n",
       "0    32439\n",
       "Name: ap_hi_120140, dtype: int64"
      ]
     },
     "execution_count": 339,
     "metadata": {},
     "output_type": "execute_result"
    }
   ],
   "source": [
    "df['ap_hi_120140'].value_counts()"
   ]
  },
  {
   "cell_type": "code",
   "execution_count": 340,
   "metadata": {},
   "outputs": [
    {
     "data": {
      "text/plain": [
       "0    66099\n",
       "1     3901\n",
       "Name: ap_hi_160180, dtype: int64"
      ]
     },
     "execution_count": 340,
     "metadata": {},
     "output_type": "execute_result"
    }
   ],
   "source": [
    "df['ap_hi_160180'].value_counts()"
   ]
  },
  {
   "cell_type": "code",
   "execution_count": 386,
   "metadata": {},
   "outputs": [
    {
     "data": {
      "text/plain": [
       "DecisionTreeClassifier(class_weight=None, criterion='gini', max_depth=3,\n",
       "            max_features=None, max_leaf_nodes=None,\n",
       "            min_impurity_decrease=0.0, min_impurity_split=None,\n",
       "            min_samples_leaf=1, min_samples_split=2,\n",
       "            min_weight_fraction_leaf=0.0, presort=False, random_state=17,\n",
       "            splitter='best')"
      ]
     },
     "execution_count": 386,
     "metadata": {},
     "output_type": "execute_result"
    }
   ],
   "source": [
    "X_last= df.drop(['cardio'], axis= 1)\n",
    "dtt = DecisionTreeClassifier(max_depth=3, random_state= 17)\n",
    "dtt.fit(X_last, df['cardio'])"
   ]
  },
  {
   "cell_type": "code",
   "execution_count": 389,
   "metadata": {
    "collapsed": true
   },
   "outputs": [],
   "source": [
    "export_graphviz(dtt, feature_names = X_last.columns, out_file='binariezz.dot') \n",
    "!dot -Tpng binariezz.dot -o ../../img/binariezz.png"
   ]
  },
  {
   "cell_type": "code",
   "execution_count": null,
   "metadata": {
    "collapsed": true
   },
   "outputs": [],
   "source": []
  }
 ],
 "metadata": {
  "kernelspec": {
   "display_name": "Python 3",
   "language": "python",
   "name": "python3"
  },
  "language_info": {
   "codemirror_mode": {
    "name": "ipython",
    "version": 3
   },
   "file_extension": ".py",
   "mimetype": "text/x-python",
   "name": "python",
   "nbconvert_exporter": "python",
   "pygments_lexer": "ipython3",
   "version": "3.6.3"
  },
  "name": "lesson4_part2_Decision_trees.ipynb"
 },
 "nbformat": 4,
 "nbformat_minor": 1
}
