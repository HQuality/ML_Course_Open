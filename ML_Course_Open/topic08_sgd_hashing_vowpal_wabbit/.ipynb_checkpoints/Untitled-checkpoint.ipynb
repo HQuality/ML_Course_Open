{
 "cells": [
  {
   "cell_type": "code",
   "execution_count": 6,
   "metadata": {},
   "outputs": [
    {
     "name": "stdout",
     "output_type": "stream",
     "text": [
      " i ve recently downloaded git in my laptop and according to the pro git book i have to set it up before working with it and i m using visual studio as a code editor so my question is what is the correct command to use in the git bash to do so \tgit visual-studio\r\n",
      " i have followed the instructions on laravel s upgrade page by firstly adding the nullable text column into the user s table within my migration file labelled remember_token i then add the three functions into the user s model when i run composer update it brings up an abstract class error referencing the user s model within any page i visit why is this have i followed the instructions incorrectly i need to run composer update to remove another plugin but it will update \tlaravel laravel-4\r\n",
      " i have a custom adapter for a list view it has 3 fields a thumbnail and two text fields once the layout is inflated the thumbnails are downloaded from an external server how do i change the functionality so that the images are downloaded only when the user scrolls down override public view getview int position view convertview viewgroup parent inflate the layout layoutinflater inflater layoutinflater context getsystemservice context layout_inflater_service view rowview inflater inflate r layout list_single parent false imageview image imageview rowview findviewbyid r id picture textview firstline textview rowview findviewbyid r id firstline textview secondline textview rowview findviewbyid r id secondline get information about the report animallocationlog current objects get position get all the important information string species current getspecies string sanitizedspecies mischelpers sanitizestring species int reportid objects get position gettrackerid construct the url to the image string imagelocation websiteurl + sanitizedspecies + separator + reportid + extension display user report downloader download imagelocation image firstline settext species secondline settext spotted + current getdatetime tostring yyyy mm dd h m return rowview \tandroid listview\r\n",
      " in my form panel i added a checkbox setting stateful true stateid loginpanelremeberme then before sending form i save state calling this savestate on the panel all other componenets save their state and whe i reload the page they recall the previous state but checkbox alway start in unchecked state is there any way to force save value \tjavascript extjs4.1\r\n",
      " i have the two dates variables startwork and endwork i need to define whether person includes worked in the period from 23 hours to 05 hours for example startwork hour endwork hour result 21 5 yes 22 3 yes 12 21 no 23 8 yes 21 8 yes 7 9 no my code if startwork hour gt 23 amp amp startwork hour lt 5 return true if endwork hour gt 23 amp amp endwork hour lt 5 return true but this code is not coverage all variants \tc#\r\n",
      " i m running into a strange error when i compile my code it gives me the following message i r r desktop prog2 terminal 51 sls2t0f16cd4dzl3640n4p2w0000gn t private tmp com apple launchd ajrzeyltfv render ion 343 6 er frank listeners in usr bin bin usr sbin sbin usr local git bin ank e users frank nk desktop prog2 segmentation fault 11 logout i understand that this is due to a memory issue however i gave dictionary2 the same memory as the original dictionary so why would it not be able to compile the entire list here s my code i know it s a little on the long side but i feel that it is all necessary to convey what is going on include lt stdio h gt include lt string h gt include lt stdlib h gt include lt stdbool h gt include lt ctype h gt struct entry char word 15 char definition 50 void dictionarysort struct entry dictionary int i j k word1 word2 dict2length 1 bool bnf false struct entry dictionary2 100 for i 0 i lt strlen amp dictionary gt word 0 i++ strcpy amp dictionary2 0 word i amp dictionary 0 word i i 0 word1 1 word2 0 while isalpha dictionary word1 word 0 while i lt strlen amp dictionary gt word word1 printf c dictionary word1 word i if dictionary word1 word i dictionary2 word2 word i i++ bnf false else if dictionary word1 word i lt dictionary word2 word i insert section to prevent back and forth cycling if bnf false word2 bnf true else dictionary word1 word i lt dictionary word2 word i open up new index by moving everything above up one insert at word for j dict2length j gt word2 j word for k 0 k lt strlen amp dictionary2 gt word 0 k++ strcpy amp dictionary2 j+1 word k amp dictionary2 j word k definition for k 0 k lt strlen amp dictionary2 gt word 0 k++ strcpy amp dictionary2 j+1 definition k amp dictionary2 j definition k for k 0 k lt strlen amp dictionary1 gt word word1 for k 0 k lt strlen dictionary word1 word k++ strcpy amp dictionary2 word2 word k amp dictionary word1 word k for k 0 k lt strlen dictionary word1 definition k++ strcpy amp dictionary2 word2 definition k amp dictionary word1 definition k dict2length++ break else insert section to prevent back and forth cycling if bnf false word2++ bnf true else dictionary word1 word i lt dictionary word2 word i open up new index by moving everything above up one insert at word for j dict2length j gt word2 j word for k 0 k lt strlen amp dictionary2 gt word 0 k++ strcpy amp dictionary2 j+1 word k amp dictionary2 j word k definition for k 0 k lt strlen amp dictionary2 gt word 0 k++ strcpy amp dictionary2 j+1 definition k amp dictionary2 j definition k for k 0 k lt strlen dictionary word1 word k++ strcpy amp dictionary2 word2 word k amp dictionary word1 word k for k 0 k lt strlen dictionary word1 definition k++ strcpy amp dictionary2 word2 definition k amp dictionary word1 definition k dict2length++ break word1++ word2 0 for i 0 i lt dict2length i++ printf s n dictionary2 i word int main void struct entry dictionary 100 aerie a high nest abyss a bottomless pit ahoy a nautical call of greeting addle to become confused aardvark a burrowing african mammal agar a jelly made of seaweed acumen mentally sharp keen aigrette an ornamental cluster of feathers affix to attach ajar partially opened dictionarysort dictionary \tc string memory structure\r\n",
      " i might have been using the wrong search tags but here it goes in the app i m developing the user is able to upload pictures and videos this through recording or gallery i m currently trying to show a video which the user just recorded i m taking the uri from intent getdata after an intent with mediastore action_video_capture public void getcameravideo intent takevideointent new intent mediastore action_video_capture if takevideointent resolveactivity ctx getpackagemanager null ctx startactivityforresult takevideointent fetcher_videocamera else toast maketext ctx language translate error_phone_has_no_camera_app toast length_long show errorclass log tried to take video but phone has no camera so i have this content uri to my video now how should i get about into playing this video in an videoview i can t seem to find any decent solution to this issue i simply tried this in the activity where i m showing the video but it just results in a black videoview view new videoview activity videoview view setvideouri uri videoview view start i m sure someone solved this already i just can t seem to find it \tandroid video android-contentprovider videoview\r\n",
      " i have a collection of objects that are guaranteed to be distinct in particular indexed by a unique integer id i also know exactly how many of them there are and the number won t change and was wondering whether array would have a notable performance advantage over hashset for storing retrieving said elements on paper array guarantees constant time insertion since i know the size ahead of time and retrieval but the code for hashset looks much cleaner and adds some flexibility so i m wondering if i m losing anything performance wise using it at least theoretically \tjava arrays performance data-structures hashset\r\n"
     ]
    }
   ],
   "source": [
    "!head -8 stackoverflow.10kk.tsv"
   ]
  },
  {
   "cell_type": "code",
   "execution_count": 2,
   "metadata": {},
   "outputs": [
    {
     "name": "stdout",
     "output_type": "stream",
     "text": [
      "9999992 stackoverflow.10kk.tsv\n",
      "CPU times: user 63.3 ms, sys: 10.9 ms, total: 74.2 ms\n",
      "Wall time: 2.51 s\n"
     ]
    }
   ],
   "source": [
    "%%time\n",
    "!wc -l stackoverflow.10kk.tsv"
   ]
  },
  {
   "cell_type": "code",
   "execution_count": 3,
   "metadata": {},
   "outputs": [],
   "source": [
    "import os\n",
    "from tqdm import tqdm\n",
    "from time import time\n",
    "import numpy as np\n",
    "from sklearn.metrics import accuracy_score"
   ]
  },
  {
   "cell_type": "code",
   "execution_count": 4,
   "metadata": {
    "collapsed": true
   },
   "outputs": [],
   "source": [
    "!sed -i 1,7d stackoverflow.10kk.tsv"
   ]
  },
  {
   "cell_type": "code",
   "execution_count": 4,
   "metadata": {},
   "outputs": [
    {
     "name": "stdout",
     "output_type": "stream",
     "text": [
      "9999992it [01:10, 140992.95it/s]\n",
      "4389052 lines selected, 15 lines corrupted.\n",
      "CPU times: user 1.64 s, sys: 475 ms, total: 2.11 s\n",
      "Wall time: 1min 11s\n"
     ]
    }
   ],
   "source": [
    "%%time\n",
    "!python3 preprocess.py stackoverflow.10kk.tsv stackoverflow.vw"
   ]
  },
  {
   "cell_type": "code",
   "execution_count": null,
   "metadata": {
    "collapsed": true
   },
   "outputs": [],
   "source": [
    "!gzip stackoverflow.10kk.tsv"
   ]
  },
  {
   "cell_type": "code",
   "execution_count": null,
   "metadata": {},
   "outputs": [],
   "source": []
  }
 ],
 "metadata": {
  "kernelspec": {
   "display_name": "Python 3",
   "language": "python",
   "name": "python3"
  },
  "language_info": {
   "codemirror_mode": {
    "name": "ipython",
    "version": 3
   },
   "file_extension": ".py",
   "mimetype": "text/x-python",
   "name": "python",
   "nbconvert_exporter": "python",
   "pygments_lexer": "ipython3",
   "version": "3.6.4"
  }
 },
 "nbformat": 4,
 "nbformat_minor": 2
}
