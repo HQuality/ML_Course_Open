{
 "cells": [
  {
   "cell_type": "code",
   "execution_count": null,
   "metadata": {},
   "outputs": [],
   "source": [
    "!vw -d \"stackoverflow_train.vw\" \\\n",
    "--oaa 10 \\\n",
    "--bit_precision 28 \\\n",
    "--random_seed 17  \\\n",
    "--cache_file \"model_passes_{passes}_ngram_{ngram}.vw.cache\" \\\n",
    "--passes $passes \\\n",
    "--ngram $ngram \\\n",
    "--loss_function hinge \\\n",
    "-f \"vw_models/model_passes_{passes}_ngram_{ngram}.vw\" "
   ]
  }
 ],
 "metadata": {
  "kernelspec": {
   "display_name": "Python 3",
   "language": "python",
   "name": "python3"
  },
  "language_info": {
   "codemirror_mode": {
    "name": "ipython",
    "version": 3
   },
   "file_extension": ".py",
   "mimetype": "text/x-python",
   "name": "python",
   "nbconvert_exporter": "python",
   "pygments_lexer": "ipython3",
   "version": "3.6.4"
  }
 },
 "nbformat": 4,
 "nbformat_minor": 2
}
